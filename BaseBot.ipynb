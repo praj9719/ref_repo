{
  "nbformat": 4,
  "nbformat_minor": 0,
  "metadata": {
    "colab": {
      "name": "BaseBot.ipynb",
      "provenance": [],
      "collapsed_sections": [],
      "include_colab_link": true
    },
    "kernelspec": {
      "name": "python3",
      "display_name": "Python 3"
    },
    "language_info": {
      "name": "python"
    }
  },
  "cells": [
    {
      "cell_type": "markdown",
      "metadata": {
        "id": "view-in-github",
        "colab_type": "text"
      },
      "source": [
        "<a href=\"https://colab.research.google.com/github/praj9719/ref_repo/blob/main/BaseBot.ipynb\" target=\"_parent\"><img src=\"https://colab.research.google.com/assets/colab-badge.svg\" alt=\"Open In Colab\"/></a>"
      ]
    },
    {
      "cell_type": "code",
      "metadata": {
        "id": "W4wG-y2Ofvc9"
      },
      "source": [
        "# import nltk\n",
        "# nltk.download('stopwords')  \n",
        "# nltk.download('punkt')\n",
        "# !pip install num2words\n",
        "# !pip install transformers"
      ],
      "execution_count": null,
      "outputs": []
    },
    {
      "cell_type": "code",
      "metadata": {
        "colab": {
          "base_uri": "https://localhost:8080/"
        },
        "id": "uK76sb0iyfJg",
        "outputId": "fbc8c67a-12fe-4be3-b96b-0c1be2f37d40"
      },
      "source": [
        "from google.colab import drive\n",
        "drive.mount('/content/gdrive')"
      ],
      "execution_count": null,
      "outputs": [
        {
          "output_type": "stream",
          "text": [
            "Mounted at /content/gdrive\n"
          ],
          "name": "stdout"
        }
      ]
    },
    {
      "cell_type": "code",
      "metadata": {
        "id": "AIhiPyM5yyYW"
      },
      "source": [
        "from nltk.corpus import stopwords\n",
        "from nltk.tokenize import word_tokenize\n",
        "from nltk.stem import PorterStemmer\n",
        "from collections import Counter\n",
        "from num2words import num2words\n",
        "\n",
        "import nltk\n",
        "import os\n",
        "import numpy as np\n",
        "import math\n",
        "import json\n",
        "\n",
        "import spacy\n",
        "from gensim.summarization.bm25 import BM25\n",
        "from transformers import AutoTokenizer, AutoModelForQuestionAnswering, QuestionAnsweringPipeline\n",
        "import concurrent.futures\n",
        "import itertools\n",
        "import operator\n",
        "import re"
      ],
      "execution_count": null,
      "outputs": []
    },
    {
      "cell_type": "code",
      "metadata": {
        "id": "xgCmP6xPyf3a"
      },
      "source": [
        "class PreProcessor:\n",
        "\n",
        "    def __init__(self, data):\n",
        "        self.data = data;\n",
        "\n",
        "    def execute(self):\n",
        "        self.convert_lower_case()\n",
        "        self.remove_punctuation() #remove comma seperately\n",
        "        self.remove_apostrophe()\n",
        "        self.remove_stop_words()\n",
        "        self.convert_numbers()\n",
        "        self.stemming()\n",
        "        self.remove_punctuation()\n",
        "        self.convert_numbers()\n",
        "        self.stemming() #needed again as we need to stem the words\n",
        "        self.remove_punctuation() #needed again as num2word is giving few hypens and commas fourty-one\n",
        "        self.remove_stop_words() #needed again as num2word is giving stop words 101 - one hundred and one        \n",
        "        return self.data\n",
        "\n",
        "    def convert_lower_case(self):\n",
        "        self.data = np.char.lower(self.data)\n",
        "\n",
        "    def remove_stop_words(self):\n",
        "        stop_words = stopwords.words('english')\n",
        "        words = word_tokenize(str(self.data))\n",
        "        new_text = \"\"\n",
        "        for w in words:\n",
        "            if w not in stop_words and len(w) > 1:\n",
        "                new_text = new_text + \" \" + w\n",
        "        self.data = new_text\n",
        "    \n",
        "    def remove_punctuation(self):\n",
        "        symbols = \"!\\\"#$%&()*+-./:;<=>?@[\\]^_`{|}~\\n\"\n",
        "        for i in range(len(symbols)):\n",
        "            data = np.char.replace(self.data, symbols[i], ' ')\n",
        "            data = np.char.replace(data, \"  \", \" \")\n",
        "        data = np.char.replace(data, ',', '')\n",
        "        self.data = data\n",
        "\n",
        "    def remove_apostrophe(self):\n",
        "        self.data = np.char.replace(self.data, \"'\", \"\")\n",
        "\n",
        "    def stemming(self):\n",
        "        stemmer= PorterStemmer()\n",
        "        \n",
        "        tokens = word_tokenize(str(self.data))\n",
        "        new_text = \"\"\n",
        "        for w in tokens:\n",
        "            new_text = new_text + \" \" + stemmer.stem(w)\n",
        "        self.data = new_text\n",
        "\n",
        "    def convert_numbers(self):\n",
        "        tokens = word_tokenize(str(self.data))\n",
        "        new_text = \"\"\n",
        "        for w in tokens:\n",
        "            try:\n",
        "                w = num2words(int(w))\n",
        "            except:\n",
        "                a = 0\n",
        "            new_text = new_text + \" \" + w\n",
        "        new_text = np.char.replace(new_text, \"-\", \" \")\n",
        "        self.data = new_text"
      ],
      "execution_count": null,
      "outputs": []
    },
    {
      "cell_type": "code",
      "metadata": {
        "id": "862aHmNryur8"
      },
      "source": [
        "class DocumentRetrieval:\n",
        "    \n",
        "    def __init__(self, dataset_path, model_path, head):\n",
        "        self.dataset_path = dataset_path\n",
        "        self.head = head\n",
        "        json_path = f'{model_path}{head}.json'\n",
        "        npy_path = f'{model_path}{head}.npy'\n",
        "        with open(json_path, 'r') as json_file:\n",
        "            data = json.load(json_file)\n",
        "        self.N = data['N']\n",
        "        self.topics = data['topics']\n",
        "        self.DF = data['DF']\n",
        "        self.total_vocab = data['total_vocab']\n",
        "        self.D = np.load(npy_path)\n",
        "        print(f\"[Info] model loaded {head}\")\n",
        "\n",
        "    def doc_freq(self, word):\n",
        "        c = 0\n",
        "        try:\n",
        "            c = self.DF[word]\n",
        "        except:\n",
        "            pass\n",
        "        return c\n",
        "\n",
        "    def gen_vector(self, tokens):\n",
        "        Q = np.zeros((len(self.total_vocab)))\n",
        "        counter = Counter(tokens)\n",
        "        words_count = len(tokens)\n",
        "\n",
        "        query_weights = {}\n",
        "        \n",
        "        for token in np.unique(tokens):\n",
        "            tf = counter[token]/words_count\n",
        "            df = self.doc_freq(token)\n",
        "            idf = math.log((self.N+1)/(df+1))\n",
        "            try:\n",
        "                ind = self.total_vocab.index(token)\n",
        "                Q[ind] = tf*idf\n",
        "            except:\n",
        "                pass\n",
        "        return Q\n",
        "\n",
        "    def cosine_sim(self, a, b):\n",
        "        cos_sim = np.dot(a, b)/(np.linalg.norm(a)*np.linalg.norm(b))\n",
        "        return cos_sim\n",
        "\n",
        "    def classify(self, k, query):\n",
        "        preprocessed_query = PreProcessor(query).execute()\n",
        "        tokens = word_tokenize(str(preprocessed_query))\n",
        "\n",
        "        d_cosines = []\n",
        "        query_vector = self.gen_vector(tokens)\n",
        "\n",
        "        for d in self.D:\n",
        "            sim = self.cosine_sim(query_vector, d)\n",
        "            d_cosines.append(sim)\n",
        "\n",
        "        out = np.array(d_cosines).argsort()[-k:][::-1]\n",
        "        result = []\n",
        "        for o in out:\n",
        "            result.append({\"topic\" : self.topics[o], \"similarity\" : round(d_cosines[o]+0.0001, 4)})\n",
        "        return result\n",
        "\n",
        "    def search(self, query):\n",
        "        count = min(self.N, 7)\n",
        "        relevent_docs = self.classify(count, query)\n",
        "        threshold = 0.02\n",
        "        docs = []\n",
        "        for doc in relevent_docs:\n",
        "            if doc['similarity'] > threshold:\n",
        "                with open(f'{self.dataset_path}/{self.head}/{doc[\"topic\"]}.txt', 'r') as file:\n",
        "                    docs.append(file.read())\n",
        "        return docs\n",
        "\n"
      ],
      "execution_count": null,
      "outputs": []
    },
    {
      "cell_type": "code",
      "metadata": {
        "id": "Qov2kU-w7zhx"
      },
      "source": [
        "class PassageRetrieval:\n",
        "\n",
        "  def __init__(self, nlp):\n",
        "    self.tokenize = lambda text: [token.lemma_ for token in nlp(text)]\n",
        "    self.bm25 = None\n",
        "    self.passages = None\n",
        "\n",
        "  def preprocess(self, doc):\n",
        "    passages = [p for p in doc.split('\\n') if p and not p.startswith('=')]\n",
        "    return passages\n",
        "\n",
        "  def fit(self, docs):\n",
        "    passages = list(itertools.chain(*map(self.preprocess, docs)))\n",
        "    corpus = [self.tokenize(p) for p in passages]\n",
        "    self.bm25 = BM25(corpus)\n",
        "    self.passages = passages\n",
        "\n",
        "  def most_similar(self, question, topn=10):\n",
        "    tokens = self.tokenize(question)\n",
        "    average_idf = sum(map(lambda k: float(self.bm25.idf[k]), self.bm25.idf.keys()))\n",
        "    scores = self.bm25.get_scores(tokens, average_idf)\n",
        "    # print(scores)\n",
        "    pairs = [(s, i) for i, s in enumerate(scores)]\n",
        "    pairs.sort(reverse=True)\n",
        "    print(pairs)\n",
        "    passages = [self.passages[i] for _, i in pairs[:topn]]\n",
        "    return passages"
      ],
      "execution_count": null,
      "outputs": []
    },
    {
      "cell_type": "code",
      "metadata": {
        "id": "1582stGR73F9"
      },
      "source": [
        "class AnswerExtractor:\n",
        "\n",
        "  def __init__(self, tokenizer, model):\n",
        "    tokenizer = AutoTokenizer.from_pretrained(tokenizer)\n",
        "    model = AutoModelForQuestionAnswering.from_pretrained(model)\n",
        "    self.nlp = QuestionAnsweringPipeline(model=model, tokenizer=tokenizer)\n",
        "\n",
        "  def extract(self, question, passages):\n",
        "    answers = []\n",
        "    for passage in passages:\n",
        "      try:\n",
        "        answer = self.nlp(question=question, context=passage)\n",
        "        answer['text'] = passage\n",
        "        answers.append(answer)\n",
        "      except KeyError:\n",
        "        pass\n",
        "    answers.sort(key=operator.itemgetter('score'), reverse=True)\n",
        "    return answers"
      ],
      "execution_count": null,
      "outputs": []
    },
    {
      "cell_type": "code",
      "metadata": {
        "id": "BizV5Gih7_ri"
      },
      "source": [
        "SPACY_MODEL = os.environ.get('SPACY_MODEL', 'en_core_web_sm')\n",
        "QA_MODEL = os.environ.get('QA_MODEL', 'distilbert-base-cased-distilled-squad')"
      ],
      "execution_count": null,
      "outputs": []
    },
    {
      "cell_type": "code",
      "metadata": {
        "id": "DDJq1OCU0qgn"
      },
      "source": [
        "nlp = spacy.load(SPACY_MODEL, disable=['ner', 'parser', 'textcat'])\n",
        "passage_retriever = PassageRetrieval(nlp)\n",
        "answer_extractor = AnswerExtractor(QA_MODEL, QA_MODEL)"
      ],
      "execution_count": null,
      "outputs": []
    },
    {
      "cell_type": "code",
      "metadata": {
        "colab": {
          "base_uri": "https://localhost:8080/"
        },
        "id": "rlTTcnGY-GSD",
        "outputId": "3819e084-010a-4ada-b664-0c8af95ae413"
      },
      "source": [
        "science = DocumentRetrieval('/content/gdrive/MyDrive/ircb/datasets/base', '/content/gdrive/MyDrive/ircb/vectors/Base/', 'Science')\n",
        "history = DocumentRetrieval('/content/gdrive/MyDrive/ircb/datasets/base', '/content/gdrive/MyDrive/ircb/vectors/Base/', 'History')"
      ],
      "execution_count": null,
      "outputs": [
        {
          "output_type": "stream",
          "text": [
            "[Info] model loaded Science\n",
            "[Info] model loaded History\n"
          ],
          "name": "stdout"
        }
      ]
    },
    {
      "cell_type": "code",
      "metadata": {
        "id": "MhjeQWcP1Pun"
      },
      "source": [
        "def answer(document_retriever, question):\n",
        "    docs = document_retriever.search(question)\n",
        "    if len(docs) < 1:\n",
        "        print('Question is out of context!')\n",
        "        return\n",
        "    passage_retriever.fit(docs)\n",
        "    passages = passage_retriever.most_similar(question)\n",
        "    answers = answer_extractor.extract(question, passages)\n",
        "    print(f'Que: {question}\\n')\n",
        "    for i in range(min(len(answers), 3)):\n",
        "        print(f'Ans {i+1}: {answers[i][\"answer\"]} \\n\\t{answers[i][\"text\"]}\\n')"
      ],
      "execution_count": null,
      "outputs": []
    },
    {
      "cell_type": "code",
      "metadata": {
        "id": "Foe27I1q8o-h"
      },
      "source": [
        "# Temorary code\n",
        "question = \"duration of indian independance movement\"\n",
        "passage_retriever = PassageRetrieval(nlp)\n",
        "docs = history.search(question)\n",
        "# docs"
      ],
      "execution_count": null,
      "outputs": []
    },
    {
      "cell_type": "code",
      "metadata": {
        "id": "oYFBjyXz9WoL"
      },
      "source": [
        "def preprocess(doc):\n",
        "    passages = [p for p in doc.split('\\n') if p and not p.startswith('=')]\n",
        "    return passages\n",
        "\n",
        "psgs = list(itertools.chain(*map(preprocess, docs)))\n",
        "# psgs"
      ],
      "execution_count": null,
      "outputs": []
    },
    {
      "cell_type": "code",
      "metadata": {
        "colab": {
          "base_uri": "https://localhost:8080/"
        },
        "id": "1p5gT9b69DQ5",
        "outputId": "3140ee83-f653-45d6-fe65-04034b838ccc"
      },
      "source": [
        "passage_retriever.fit(docs)\n",
        "passages = passage_retriever.most_similar(question)"
      ],
      "execution_count": null,
      "outputs": [
        {
          "output_type": "stream",
          "text": [
            "[(1284.150524650103, 11), (1244.1819395441587, 14), (1238.8297483393753, 16), (1233.110835198444, 2), (1196.925898357967, 9), (1192.8878053909289, 21), (1183.678084392532, 19), (1174.451515403772, 4), (1130.1086466452473, 0), (1115.434427580766, 12), (1097.532724319158, 3), (1094.0211164819013, 18), (1086.283789879479, 5), (1028.6449364694759, 8), (1013.3811728960579, 22), (968.4721806482559, 20), (958.9820988290039, 10), (957.1486875051315, 17), (953.7444094927822, 6), (937.8887091066047, 1), (892.5297637553176, 7), (838.2034181977199, 15), (795.4628438254807, 13)]\n"
          ],
          "name": "stdout"
        }
      ]
    },
    {
      "cell_type": "code",
      "metadata": {
        "id": "GE8Q0yby_eqA"
      },
      "source": [
        ""
      ],
      "execution_count": null,
      "outputs": []
    },
    {
      "cell_type": "code",
      "metadata": {
        "id": "O6u6zpKL8_jo"
      },
      "source": [
        "# ---------------------------------------------"
      ],
      "execution_count": null,
      "outputs": []
    },
    {
      "cell_type": "code",
      "metadata": {
        "colab": {
          "base_uri": "https://localhost:8080/"
        },
        "id": "ONdBLkMP8D-L",
        "outputId": "de022a94-1fd5-4557-aea7-4dce96405b11"
      },
      "source": [
        "answer(history, 'duration of indian independance movement')"
      ],
      "execution_count": null,
      "outputs": [
        {
          "output_type": "stream",
          "text": [
            "Que: duration of indian independance movement\n",
            "\n",
            "Ans 1: The movement spanned from 1857 to 1947 \n",
            "\tThe Indian independence movement was a series of historic events with the ultimate aim of ending the British rule in India. The movement spanned from 1857 to 1947. \n",
            "\n",
            "Ans 2: The Cold War \n",
            "\tThe Cold War and its events have left a significant legacy. It is often referred to in popular culture, especially with themes of espionage and the threat of nuclear warfare.\n",
            "\n",
            "Ans 3: Violent clashes between Hindus, Sikhs, and Muslims followed. \n",
            "\tViolent clashes between Hindus, Sikhs, and Muslims followed. Prime Minister Nehru and deputy prime minister Sardar Vallabhbhai Patel invited Mountbatten to continue as Governor General of India during the period of transition. He was replaced in June 1948 by Chakravarti Rajagopalachari. Patel took on the responsibility for bringing 565 princely states into the Union of India, steering efforts by his \"iron fist in a velvet glove\" policies, exemplified by the use of military force to integrate Junagadh and Hyderabad State into India (Operation Polo). On the other hand, Nehru kept the issue of Kashmir in his hands. \n",
            "\n"
          ],
          "name": "stdout"
        }
      ]
    },
    {
      "cell_type": "code",
      "metadata": {
        "colab": {
          "base_uri": "https://localhost:8080/"
        },
        "id": "sXgJNSh383mH",
        "outputId": "cb08fc2d-ca39-48a5-91ea-1ea5417c14bc"
      },
      "source": [
        "answer(science, 'what is atom')"
      ],
      "execution_count": null,
      "outputs": [
        {
          "output_type": "stream",
          "text": [
            "Que: what is atom\n",
            "\n",
            "Ans 1: copper \n",
            "\tThe number of protons in the nucleus is the atomic number and it defines to which chemical element the atom belongs. For example, any atom that contains 29 protons is copper. The number of neutrons defines the isotope of the element. Atoms can attach to one or more other atoms by chemical bonds to form chemical compounds such as molecules or crystals. The ability of atoms to associate and dissociate is responsible for most of the physical changes observed in nature. Chemistry is the discipline that studies these changes.\n",
            "\n",
            "Ans 2: the smallest unit of ordinary matter that forms a chemical element \n",
            "\tAn atom is the smallest unit of ordinary matter that forms a chemical element. Every solid, liquid, gas, and plasma is composed of neutral or ionized atoms. Atoms are extremely small, typically around 100 picometers across. They are so small that accurately predicting their behavior using classical physics—as if they were tennis balls, for example—is not possible due to quantum effects.\n",
            "\n",
            "Ans 3: granular in nature \n",
            "\tThe basic idea that matter is made up of tiny indivisible particles is very old, appearing in many ancient cultures such as Greece and India. The word atom is derived from the ancient Greek word atomos, which means \"uncuttable\". This ancient idea was based in philosophical reasoning rather than scientific reasoning, and modern atomic theory is not based on these old concepts. That said, the word \"atom\" itself was used throughout the ages by thinkers who suspected that matter was ultimately granular in nature.[1][2]\n",
            "\n"
          ],
          "name": "stdout"
        }
      ]
    },
    {
      "cell_type": "code",
      "metadata": {
        "id": "6anxU2SD9H7O",
        "colab": {
          "base_uri": "https://localhost:8080/"
        },
        "outputId": "2f036e06-e48d-4f0d-9137-15b1d361ff3c"
      },
      "source": [
        "answer(history, 'when world war one started')"
      ],
      "execution_count": null,
      "outputs": [
        {
          "output_type": "stream",
          "text": [
            "Que: when world war one started\n",
            "\n",
            "Ans 1: Following the Cuban Missile Crisis \n",
            "\tFollowing the Cuban Missile Crisis, a new phase began that saw the Sino-Soviet split between China and the Soviet Union complicate relations within the Communist sphere, while US ally France began to demand greater autonomy of action. The USSR invaded Czechoslovakia to suppress the 1968 Prague Spring, while the US experienced internal turmoil from the civil rights movement and opposition to the Vietnam War. In the 1960s–70s, an international peace movement took root among citizens around the world. Movements against nuclear arms testing and for nuclear disarmament took place, with large anti-war protests. By the 1970s, both sides had started making allowances for peace and security, ushering in a period of détente that saw the Strategic Arms Limitation Talks and the US opening relations with the People's Republic of China as a strategic counterweight to the USSR.\n",
            "\n",
            "Ans 2: between 1914 and 1918 \n",
            "\tIt was known as “The Great War”—a land, air and sea conflict so terrible, it left over 8 million military personnel and 6.6 million civilians dead. Nearly 60 percent of those who fought died. Even more went missing or were injured. In just four years between 1914 and 1918, World War I changed the face of modern warfare, becoming one of the deadliest conflicts in world history.\n",
            "\n",
            "Ans 3: between 1914 and 1918 \n",
            "\tIt was known as “The Great War”—a land, air and sea conflict so terrible, it left over 8 million military personnel and 6.6 million civilians dead. Nearly 60 percent of those who fought died. Even more went missing or were injured. In just four years between 1914 and 1918, World War I changed the face of modern warfare, becoming one of the deadliest conflicts in world history.\n",
            "\n"
          ],
          "name": "stdout"
        }
      ]
    },
    {
      "cell_type": "code",
      "metadata": {
        "colab": {
          "base_uri": "https://localhost:8080/"
        },
        "id": "prDTMIbJA5vq",
        "outputId": "34e9ac11-8d12-4ba2-a1d4-7745b892c2f5"
      },
      "source": [
        "answer(history, 'why world war two started')"
      ],
      "execution_count": null,
      "outputs": [
        {
          "output_type": "stream",
          "text": [
            "Que: why world war two started\n",
            "\n",
            "Ans 1: the assassination of Austrian Archduke Franz Ferdinand \n",
            "\tAlthough there were a number of causes for the war, the assassination of Austrian Archduke Franz Ferdinand was the main catalyst for starting the war. After the assassination, Austria declared war on Serbia. Then Russia prepared to defend its ally Serbia. Next, Germany declared war on Russia to protect Austria. This caused France to declare war on Germany to protect its ally Russia. Germany invaded Belgium to get to France which caused \n",
            "\n",
            "Ans 2: the assassination of Austrian Archduke Franz Ferdinand \n",
            "\tAlthough there were a number of causes for the war, the assassination of Austrian Archduke Franz Ferdinand was the main catalyst for starting the war. After the assassination, Austria declared war on Serbia. Then Russia prepared to defend its ally Serbia. Next, Germany declared war on Russia to protect Austria. This caused France to declare war on Germany to protect its ally Russia. Germany invaded Belgium to get to France which caused Britain to declare war on Germany. This all happened in just a few days.\n",
            "\n",
            "Ans 3: influenza pandemic \n",
            "\tBy then, the world was in the grips of an influenza pandemic that would infect a third of the global population. Revolution had broken out in Germany, Russia, and other countries. Much of Europe was in ruins. “Shell shock” and the aftereffects of gas poisoning would claim thousands more lives.\n",
            "\n"
          ],
          "name": "stdout"
        }
      ]
    },
    {
      "cell_type": "code",
      "metadata": {
        "colab": {
          "base_uri": "https://localhost:8080/"
        },
        "id": "50wLzP7bD7CD",
        "outputId": "2f21db57-453e-4fdf-953a-296a9377f15e"
      },
      "source": [
        "answer(science, 'what is periodic table')"
      ],
      "execution_count": null,
      "outputs": [
        {
          "output_type": "stream",
          "text": [
            "Que: what is periodic table\n",
            "\n",
            "Ans 1: International Year of the Periodic Table \n",
            "\t\tUNESCO named 2019 the International Year of the Periodic Table to mark the 150th anniversary of Mendeleev’s publication. Researchers and teachers worldwide took this opportunity to reflect on the importance of the periodic table and spread awareness about it in classrooms and beyond. Workshops and conferences encouraged people to use the knowledge of the periodic table to solve problems in health, technology, agriculture, environment and education. Publication houses organized monthly activities such as quiz contests, podcasts, personal story sections and industry site tours. These initiatives demonstrated how the elements are integral to our daily lives in medicines, pesticides and lithium batteries. \n",
            "\n",
            "Ans 2: the framework \n",
            "\t\tIn 1869, Russian chemist Dmitri Mendeleev created the framework that became the modern periodic table, leaving gaps for elements that were yet to be discovered. While arranging the elements according to their atomic weight, if he found that they did not fit into the group he would rearrange them. Mendeleev predicted the properties of some undiscovered elements and gave them names such as \"eka-aluminium\" for an element with properties similar to aluminium. Later eka-aluminium was discovered as gallium. Some discrepancies remained; the position of certain elements, such as iodine and tellurium, could not be explained. \n",
            "\n",
            "Ans 3: a tabular display of the chemical elements \n",
            "\tThe periodic table, also known as the periodic table of elements, is a tabular display of the chemical elements, which are arranged by atomic number, electron configuration, and recurring chemical properties. The structure of the table shows periodic trends. The seven rows of the table, called periods, generally have metals on the left and nonmetals on the right. The columns, called groups, contain elements with similar chemical behaviours. Six groups have accepted names as well as assigned numbers: for example, group 17 elements are the halogens; and group 18 are the noble gases. Also displayed are four simple rectangular areas or blocks associated with the filling of different atomic orbitals.\n",
            "\n"
          ],
          "name": "stdout"
        }
      ]
    },
    {
      "cell_type": "markdown",
      "metadata": {
        "id": "3nc6d1yiGKU7"
      },
      "source": [
        "UNESCO named 2019 the International Year of the Periodic Table to mark the 150th anniversary of Mendeleev’s publication"
      ]
    },
    {
      "cell_type": "code",
      "metadata": {
        "colab": {
          "base_uri": "https://localhost:8080/"
        },
        "id": "kD8Lsv_qElGt",
        "outputId": "9c5d2ff1-4ad9-42ad-da06-c361372d4271"
      },
      "source": [
        "answer(science, 'year of periodic table')"
      ],
      "execution_count": null,
      "outputs": [
        {
          "output_type": "stream",
          "text": [
            "Que: year of periodic table\n",
            "\n",
            "Ans 1: 1870 \n",
            "\t\tGerman chemist Lothar Meyer produced a version of the periodic table similar to Mendeleev’s in 1870. He left gaps for undiscovered elements but never predicted their properties. The Royal Society of London awarded the Davy Medal in 1882 to both Mendeleev and Meyer. The later discovery of elements predicted by Mendeleev, including gallium (1875), scandium (1879) and germanium (1886), verified his predictions and his periodic table won universal recognition. In 1955 the 101st element was named mendelevium in his honor\n",
            "\n",
            "Ans 2: 1913 \n",
            "\t\tThe concept of sub-atomic particles did not exist in the 19th century. In 1913, English physicist Henry Moseley used X-rays to measure the wavelengths of elements and correlated these measurements to their atomic numbers. He then rearranged the elements in the periodic table on the basis of atomic numbers. This helped explain disparities in earlier versions that had used atomic masses. \n",
            "\n",
            "Ans 3: 1869 \n",
            "\tThe organization of the periodic table can be used to derive relationships between the various element properties, and also to predict chemical properties and behaviours of undiscovered or newly synthesized elements. Russian chemist Dmitri Mendeleev published the first recognizable periodic table in 1869, developed mainly to illustrate periodic trends of the then-known elements. He also predicted some properties of unidentified elements that were expected to fill gaps within the table. Most of his forecasts soon proved to be correct, culminating with the discovery of gallium and germanium in 1875 and 1886 respectively, which corroborated his predictions.[4] Mendeleev's idea has been slowly expanded and refined with the discovery or synthesis of further new elements and the development of new theoretical models to explain chemical behaviour. The modern periodic table now provides a useful framework for analyzing chemical reactions, and continues to be widely used in chemistry, nuclear physics and other sciences. Some discussion remains ongoing regarding the placement and categorisation of specific elements, the future extension and limits of the table, and whether there is an optimal form of the table.\n",
            "\n"
          ],
          "name": "stdout"
        }
      ]
    },
    {
      "cell_type": "code",
      "metadata": {
        "colab": {
          "base_uri": "https://localhost:8080/"
        },
        "id": "vMv3_PQJFmBc",
        "outputId": "0b2b76a6-38e8-48a7-ff77-001e1931d979"
      },
      "source": [
        "answer(science, 'International year of periodic table')"
      ],
      "execution_count": null,
      "outputs": [
        {
          "output_type": "stream",
          "text": [
            "Que: International year of periodic table\n",
            "\n",
            "Ans 1: 1870 \n",
            "\t\tGerman chemist Lothar Meyer produced a version of the periodic table similar to Mendeleev’s in 1870. He left gaps for undiscovered elements but never predicted their properties. The Royal Society of London awarded the Davy Medal in 1882 to both Mendeleev and Meyer. The later discovery of elements predicted by Mendeleev, including gallium (1875), scandium (1879) and germanium (1886), verified his predictions and his periodic table won universal recognition. In 1955 the 101st element was named mendelevium in his honor\n",
            "\n",
            "Ans 2: 1913 \n",
            "\t\tThe concept of sub-atomic particles did not exist in the 19th century. In 1913, English physicist Henry Moseley used X-rays to measure the wavelengths of elements and correlated these measurements to their atomic numbers. He then rearranged the elements in the periodic table on the basis of atomic numbers. This helped explain disparities in earlier versions that had used atomic masses. \n",
            "\n",
            "Ans 3: 2019 \n",
            "\t\tUNESCO named 2019 the International Year of the Periodic Table to mark the 150th anniversary of Mendeleev’s publication. Researchers and teachers worldwide took this opportunity to reflect on the importance of the periodic table and spread awareness about it in classrooms and beyond. Workshops and conferences encouraged people to use the knowledge of the periodic table to solve problems in health, technology, agriculture, environment and education. Publication houses organized monthly activities such as quiz contests, podcasts, personal story sections and industry site tours. These initiatives demonstrated how the elements are integral to our daily lives in medicines, pesticides and lithium batteries. \n",
            "\n"
          ],
          "name": "stdout"
        }
      ]
    },
    {
      "cell_type": "code",
      "metadata": {
        "colab": {
          "base_uri": "https://localhost:8080/"
        },
        "id": "6TMl8nE4Fwi7",
        "outputId": "3da88630-45ad-4bf7-c485-af4c31c0ad23"
      },
      "source": [
        "answer(science, 'why UNESO name 2019 the International year of periodic table')"
      ],
      "execution_count": null,
      "outputs": [
        {
          "output_type": "stream",
          "text": [
            "Que: why UNESO name 2019 the International year of periodic table\n",
            "\n",
            "Ans 1: to mark the 150th anniversary of Mendeleev’s publication \n",
            "\t\tUNESCO named 2019 the International Year of the Periodic Table to mark the 150th anniversary of Mendeleev’s publication. Researchers and teachers worldwide took this opportunity to reflect on the importance of the periodic table and spread awareness about it in classrooms and beyond. Workshops and conferences encouraged people to use the knowledge of the periodic table to solve problems in health, technology, agriculture, environment and education. Publication houses organized monthly activities such as quiz contests, podcasts, personal story sections and industry site tours. These initiatives demonstrated how the elements are integral to our daily lives in medicines, pesticides and lithium batteries. \n",
            "\n",
            "Ans 2: The modern periodic table \n",
            "\t\tThe modern periodic table arranges the elements by their atomic numbers and periodic properties. Several scientists worked over almost a century to assemble the elements into this format.\n",
            "\n",
            "Ans 3: 1955 the 101st element was named mendelevium \n",
            "\t\tGerman chemist Lothar Meyer produced a version of the periodic table similar to Mendeleev’s in 1870. He left gaps for undiscovered elements but never predicted their properties. The Royal Society of London awarded the Davy Medal in 1882 to both Mendeleev and Meyer. The later discovery of elements predicted by Mendeleev, including gallium (1875), scandium (1879) and germanium (1886), verified his predictions and his periodic table won universal recognition. In 1955 the 101st element was named mendelevium in his honor\n",
            "\n"
          ],
          "name": "stdout"
        }
      ]
    },
    {
      "cell_type": "code",
      "metadata": {
        "colab": {
          "base_uri": "https://localhost:8080/"
        },
        "id": "-z-jbRjrF-mL",
        "outputId": "93cd9b24-6a5d-4239-c7bd-37fdabe2ecc7"
      },
      "source": [
        "answer(science, 'who named 2019 the International year of periodic table')"
      ],
      "execution_count": null,
      "outputs": [
        {
          "output_type": "stream",
          "text": [
            "Que: who named 2019 the International year of periodic table\n",
            "\n",
            "Ans 1: UNESCO \n",
            "\t\tUNESCO named 2019 the International Year of the Periodic Table to mark the 150th anniversary of Mendeleev’s publication. Researchers and teachers worldwide took this opportunity to reflect on the importance of the periodic table and spread awareness about it in classrooms and beyond. Workshops and conferences encouraged people to use the knowledge of the periodic table to solve problems in health, technology, agriculture, environment and education. Publication houses organized monthly activities such as quiz contests, podcasts, personal story sections and industry site tours. These initiatives demonstrated how the elements are integral to our daily lives in medicines, pesticides and lithium batteries. \n",
            "\n",
            "Ans 2: John Newlands \n",
            "\t\tBritish chemist John Newlands was the first to arrange the elements into a periodic table with increasing order of atomic masses. He found that every eight elements had similar properties and called this the law of octaves. He arranged the elements in eight groups but left no gaps for undiscovered elements. \n",
            "\n",
            "Ans 3: Henry Moseley \n",
            "\t\tThe concept of sub-atomic particles did not exist in the 19th century. In 1913, English physicist Henry Moseley used X-rays to measure the wavelengths of elements and correlated these measurements to their atomic numbers. He then rearranged the elements in the periodic table on the basis of atomic numbers. This helped explain disparities in earlier versions that had used atomic masses. \n",
            "\n"
          ],
          "name": "stdout"
        }
      ]
    },
    {
      "cell_type": "code",
      "metadata": {
        "id": "8JClVycPGE1P"
      },
      "source": [
        ""
      ],
      "execution_count": null,
      "outputs": []
    },
    {
      "cell_type": "code",
      "metadata": {
        "colab": {
          "base_uri": "https://localhost:8080/"
        },
        "id": "7TD30klKBTBu",
        "outputId": "a1665169-13fb-44f5-b282-87fe072475cd"
      },
      "source": [
        "!pip list -v "
      ],
      "execution_count": null,
      "outputs": [
        {
          "output_type": "stream",
          "text": [
            "Package                       Version        Location                               Installer\n",
            "----------------------------- -------------- -------------------------------------- ---------\n",
            "absl-py                       0.12.0         /usr/local/lib/python3.7/dist-packages pip      \n",
            "alabaster                     0.7.12         /usr/local/lib/python3.7/dist-packages pip      \n",
            "albumentations                0.1.12         /usr/local/lib/python3.7/dist-packages pip      \n",
            "altair                        4.1.0          /usr/local/lib/python3.7/dist-packages pip      \n",
            "appdirs                       1.4.4          /usr/local/lib/python3.7/dist-packages pip      \n",
            "argon2-cffi                   20.1.0         /usr/local/lib/python3.7/dist-packages pip      \n",
            "astor                         0.8.1          /usr/local/lib/python3.7/dist-packages pip      \n",
            "astropy                       4.2.1          /usr/local/lib/python3.7/dist-packages pip      \n",
            "astunparse                    1.6.3          /usr/local/lib/python3.7/dist-packages pip      \n",
            "async-generator               1.10           /usr/local/lib/python3.7/dist-packages pip      \n",
            "atari-py                      0.2.6          /usr/local/lib/python3.7/dist-packages pip      \n",
            "atomicwrites                  1.4.0          /usr/local/lib/python3.7/dist-packages pip      \n",
            "attrs                         20.3.0         /usr/local/lib/python3.7/dist-packages pip      \n",
            "audioread                     2.1.9          /usr/local/lib/python3.7/dist-packages pip      \n",
            "autograd                      1.3            /usr/local/lib/python3.7/dist-packages pip      \n",
            "Babel                         2.9.0          /usr/local/lib/python3.7/dist-packages pip      \n",
            "backcall                      0.2.0          /usr/local/lib/python3.7/dist-packages pip      \n",
            "beautifulsoup4                4.6.3          /usr/local/lib/python3.7/dist-packages pip      \n",
            "bleach                        3.3.0          /usr/local/lib/python3.7/dist-packages pip      \n",
            "blis                          0.4.1          /usr/local/lib/python3.7/dist-packages pip      \n",
            "bokeh                         2.3.1          /usr/local/lib/python3.7/dist-packages pip      \n",
            "Bottleneck                    1.3.2          /usr/local/lib/python3.7/dist-packages pip      \n",
            "branca                        0.4.2          /usr/local/lib/python3.7/dist-packages pip      \n",
            "bs4                           0.0.1          /usr/local/lib/python3.7/dist-packages pip      \n",
            "CacheControl                  0.12.6         /usr/local/lib/python3.7/dist-packages pip      \n",
            "cachetools                    4.2.1          /usr/local/lib/python3.7/dist-packages pip      \n",
            "catalogue                     1.0.0          /usr/local/lib/python3.7/dist-packages pip      \n",
            "certifi                       2020.12.5      /usr/local/lib/python3.7/dist-packages pip      \n",
            "cffi                          1.14.5         /usr/local/lib/python3.7/dist-packages pip      \n",
            "chainer                       7.4.0          /usr/local/lib/python3.7/dist-packages pip      \n",
            "chardet                       3.0.4          /usr/local/lib/python3.7/dist-packages pip      \n",
            "click                         7.1.2          /usr/local/lib/python3.7/dist-packages pip      \n",
            "cloudpickle                   1.3.0          /usr/local/lib/python3.7/dist-packages pip      \n",
            "cmake                         3.12.0         /usr/local/lib/python3.7/dist-packages pip      \n",
            "cmdstanpy                     0.9.5          /usr/local/lib/python3.7/dist-packages pip      \n",
            "colorcet                      2.0.6          /usr/local/lib/python3.7/dist-packages pip      \n",
            "colorlover                    0.3.0          /usr/local/lib/python3.7/dist-packages pip      \n",
            "community                     1.0.0b1        /usr/local/lib/python3.7/dist-packages pip      \n",
            "contextlib2                   0.5.5          /usr/local/lib/python3.7/dist-packages pip      \n",
            "convertdate                   2.3.2          /usr/local/lib/python3.7/dist-packages pip      \n",
            "coverage                      3.7.1          /usr/local/lib/python3.7/dist-packages pip      \n",
            "coveralls                     0.5            /usr/local/lib/python3.7/dist-packages pip      \n",
            "crcmod                        1.7            /usr/local/lib/python3.7/dist-packages pip      \n",
            "cufflinks                     0.17.3         /usr/local/lib/python3.7/dist-packages pip      \n",
            "cvxopt                        1.2.6          /usr/local/lib/python3.7/dist-packages pip      \n",
            "cvxpy                         1.0.31         /usr/local/lib/python3.7/dist-packages pip      \n",
            "cycler                        0.10.0         /usr/local/lib/python3.7/dist-packages pip      \n",
            "cymem                         2.0.5          /usr/local/lib/python3.7/dist-packages pip      \n",
            "Cython                        0.29.22        /usr/local/lib/python3.7/dist-packages pip      \n",
            "daft                          0.0.4          /usr/local/lib/python3.7/dist-packages pip      \n",
            "dask                          2.12.0         /usr/local/lib/python3.7/dist-packages pip      \n",
            "datascience                   0.10.6         /usr/local/lib/python3.7/dist-packages pip      \n",
            "debugpy                       1.0.0          /usr/local/lib/python3.7/dist-packages pip      \n",
            "decorator                     4.4.2          /usr/local/lib/python3.7/dist-packages pip      \n",
            "defusedxml                    0.7.1          /usr/local/lib/python3.7/dist-packages pip      \n",
            "descartes                     1.1.0          /usr/local/lib/python3.7/dist-packages pip      \n",
            "dill                          0.3.3          /usr/local/lib/python3.7/dist-packages pip      \n",
            "distributed                   1.25.3         /usr/local/lib/python3.7/dist-packages pip      \n",
            "dlib                          19.18.0        /usr/local/lib/python3.7/dist-packages pip      \n",
            "dm-tree                       0.1.5          /usr/local/lib/python3.7/dist-packages pip      \n",
            "docopt                        0.6.2          /usr/local/lib/python3.7/dist-packages pip      \n",
            "docutils                      0.17           /usr/local/lib/python3.7/dist-packages pip      \n",
            "dopamine-rl                   1.0.5          /usr/local/lib/python3.7/dist-packages pip      \n",
            "earthengine-api               0.1.260        /usr/local/lib/python3.7/dist-packages pip      \n",
            "easydict                      1.9            /usr/local/lib/python3.7/dist-packages pip      \n",
            "ecos                          2.0.7.post1    /usr/local/lib/python3.7/dist-packages pip      \n",
            "editdistance                  0.5.3          /usr/local/lib/python3.7/dist-packages pip      \n",
            "en-core-web-sm                2.2.5          /usr/local/lib/python3.7/dist-packages pip      \n",
            "entrypoints                   0.3            /usr/local/lib/python3.7/dist-packages pip      \n",
            "ephem                         3.7.7.1        /usr/local/lib/python3.7/dist-packages pip      \n",
            "et-xmlfile                    1.0.1          /usr/local/lib/python3.7/dist-packages pip      \n",
            "fa2                           0.3.5          /usr/local/lib/python3.7/dist-packages pip      \n",
            "fancyimpute                   0.4.3          /usr/local/lib/python3.7/dist-packages pip      \n",
            "fastai                        1.0.61         /usr/local/lib/python3.7/dist-packages pip      \n",
            "fastdtw                       0.3.4          /usr/local/lib/python3.7/dist-packages pip      \n",
            "fastprogress                  1.0.0          /usr/local/lib/python3.7/dist-packages pip      \n",
            "fastrlock                     0.6            /usr/local/lib/python3.7/dist-packages pip      \n",
            "fbprophet                     0.7.1          /usr/local/lib/python3.7/dist-packages          \n",
            "feather-format                0.4.1          /usr/local/lib/python3.7/dist-packages pip      \n",
            "filelock                      3.0.12         /usr/local/lib/python3.7/dist-packages pip      \n",
            "firebase-admin                4.4.0          /usr/local/lib/python3.7/dist-packages pip      \n",
            "fix-yahoo-finance             0.0.22         /usr/local/lib/python3.7/dist-packages pip      \n",
            "Flask                         1.1.2          /usr/local/lib/python3.7/dist-packages pip      \n",
            "flatbuffers                   1.12           /usr/local/lib/python3.7/dist-packages pip      \n",
            "folium                        0.8.3          /usr/local/lib/python3.7/dist-packages pip      \n",
            "future                        0.16.0         /usr/local/lib/python3.7/dist-packages pip      \n",
            "gast                          0.3.3          /usr/local/lib/python3.7/dist-packages pip      \n",
            "GDAL                          2.2.2          /usr/local/lib/python3.7/dist-packages pip      \n",
            "gdown                         3.6.4          /usr/local/lib/python3.7/dist-packages pip      \n",
            "gensim                        3.6.0          /usr/local/lib/python3.7/dist-packages pip      \n",
            "geographiclib                 1.50           /usr/local/lib/python3.7/dist-packages pip      \n",
            "geopy                         1.17.0         /usr/local/lib/python3.7/dist-packages pip      \n",
            "gin-config                    0.4.0          /usr/local/lib/python3.7/dist-packages pip      \n",
            "glob2                         0.7            /usr/local/lib/python3.7/dist-packages pip      \n",
            "google                        2.0.3          /usr/local/lib/python3.7/dist-packages pip      \n",
            "google-api-core               1.26.3         /usr/local/lib/python3.7/dist-packages pip      \n",
            "google-api-python-client      1.12.8         /usr/local/lib/python3.7/dist-packages pip      \n",
            "google-auth                   1.28.1         /usr/local/lib/python3.7/dist-packages pip      \n",
            "google-auth-httplib2          0.0.4          /usr/local/lib/python3.7/dist-packages pip      \n",
            "google-auth-oauthlib          0.4.4          /usr/local/lib/python3.7/dist-packages pip      \n",
            "google-cloud-bigquery         1.21.0         /usr/local/lib/python3.7/dist-packages pip      \n",
            "google-cloud-bigquery-storage 1.1.0          /usr/local/lib/python3.7/dist-packages pip      \n",
            "google-cloud-core             1.0.3          /usr/local/lib/python3.7/dist-packages pip      \n",
            "google-cloud-datastore        1.8.0          /usr/local/lib/python3.7/dist-packages pip      \n",
            "google-cloud-firestore        1.7.0          /usr/local/lib/python3.7/dist-packages pip      \n",
            "google-cloud-language         1.2.0          /usr/local/lib/python3.7/dist-packages pip      \n",
            "google-cloud-storage          1.18.1         /usr/local/lib/python3.7/dist-packages pip      \n",
            "google-cloud-translate        1.5.0          /usr/local/lib/python3.7/dist-packages pip      \n",
            "google-colab                  1.0.0          /usr/local/lib/python3.7/dist-packages pip      \n",
            "google-pasta                  0.2.0          /usr/local/lib/python3.7/dist-packages pip      \n",
            "google-resumable-media        0.4.1          /usr/local/lib/python3.7/dist-packages pip      \n",
            "googleapis-common-protos      1.53.0         /usr/local/lib/python3.7/dist-packages pip      \n",
            "googledrivedownloader         0.4            /usr/local/lib/python3.7/dist-packages pip      \n",
            "graphviz                      0.10.1         /usr/local/lib/python3.7/dist-packages pip      \n",
            "greenlet                      1.0.0          /usr/local/lib/python3.7/dist-packages pip      \n",
            "grpcio                        1.32.0         /usr/local/lib/python3.7/dist-packages pip      \n",
            "gspread                       3.0.1          /usr/local/lib/python3.7/dist-packages pip      \n",
            "gspread-dataframe             3.0.8          /usr/local/lib/python3.7/dist-packages pip      \n",
            "gym                           0.17.3         /usr/local/lib/python3.7/dist-packages pip      \n",
            "h5py                          2.10.0         /usr/local/lib/python3.7/dist-packages pip      \n",
            "HeapDict                      1.0.1          /usr/local/lib/python3.7/dist-packages pip      \n",
            "hijri-converter               2.1.1          /usr/local/lib/python3.7/dist-packages pip      \n",
            "holidays                      0.10.5.2       /usr/local/lib/python3.7/dist-packages pip      \n",
            "holoviews                     1.14.3         /usr/local/lib/python3.7/dist-packages pip      \n",
            "html5lib                      1.0.1          /usr/local/lib/python3.7/dist-packages pip      \n",
            "httpimport                    0.5.18         /usr/local/lib/python3.7/dist-packages pip      \n",
            "httplib2                      0.17.4         /usr/local/lib/python3.7/dist-packages pip      \n",
            "httplib2shim                  0.0.3          /usr/local/lib/python3.7/dist-packages pip      \n",
            "humanize                      0.5.1          /usr/local/lib/python3.7/dist-packages pip      \n",
            "hyperopt                      0.1.2          /usr/local/lib/python3.7/dist-packages pip      \n",
            "ideep4py                      2.0.0.post3    /usr/local/lib/python3.7/dist-packages pip      \n",
            "idna                          2.10           /usr/local/lib/python3.7/dist-packages pip      \n",
            "imageio                       2.4.1          /usr/local/lib/python3.7/dist-packages pip      \n",
            "imagesize                     1.2.0          /usr/local/lib/python3.7/dist-packages pip      \n",
            "imbalanced-learn              0.4.3          /usr/local/lib/python3.7/dist-packages pip      \n",
            "imblearn                      0.0            /usr/local/lib/python3.7/dist-packages pip      \n",
            "imgaug                        0.2.9          /usr/local/lib/python3.7/dist-packages pip      \n",
            "importlib-metadata            3.10.0         /usr/local/lib/python3.7/dist-packages pip      \n",
            "importlib-resources           5.1.2          /usr/local/lib/python3.7/dist-packages pip      \n",
            "imutils                       0.5.4          /usr/local/lib/python3.7/dist-packages pip      \n",
            "inflect                       2.1.0          /usr/local/lib/python3.7/dist-packages pip      \n",
            "iniconfig                     1.1.1          /usr/local/lib/python3.7/dist-packages pip      \n",
            "intel-openmp                  2021.2.0       /usr/local/lib/python3.7/dist-packages pip      \n",
            "intervaltree                  2.1.0          /usr/local/lib/python3.7/dist-packages pip      \n",
            "ipykernel                     4.10.1         /usr/local/lib/python3.7/dist-packages pip      \n",
            "ipython                       5.5.0          /usr/local/lib/python3.7/dist-packages pip      \n",
            "ipython-genutils              0.2.0          /usr/local/lib/python3.7/dist-packages pip      \n",
            "ipython-sql                   0.3.9          /usr/local/lib/python3.7/dist-packages pip      \n",
            "ipywidgets                    7.6.3          /usr/local/lib/python3.7/dist-packages pip      \n",
            "itsdangerous                  1.1.0          /usr/local/lib/python3.7/dist-packages pip      \n",
            "jax                           0.2.12         /usr/local/lib/python3.7/dist-packages pip      \n",
            "jaxlib                        0.1.65+cuda110 /usr/local/lib/python3.7/dist-packages pip      \n",
            "jdcal                         1.4.1          /usr/local/lib/python3.7/dist-packages pip      \n",
            "jedi                          0.18.0         /usr/local/lib/python3.7/dist-packages pip      \n",
            "jieba                         0.42.1         /usr/local/lib/python3.7/dist-packages pip      \n",
            "Jinja2                        2.11.3         /usr/local/lib/python3.7/dist-packages pip      \n",
            "joblib                        1.0.1          /usr/local/lib/python3.7/dist-packages pip      \n",
            "jpeg4py                       0.1.4          /usr/local/lib/python3.7/dist-packages pip      \n",
            "jsonschema                    2.6.0          /usr/local/lib/python3.7/dist-packages pip      \n",
            "jupyter                       1.0.0          /usr/local/lib/python3.7/dist-packages pip      \n",
            "jupyter-client                5.3.5          /usr/local/lib/python3.7/dist-packages pip      \n",
            "jupyter-console               5.2.0          /usr/local/lib/python3.7/dist-packages pip      \n",
            "jupyter-core                  4.7.1          /usr/local/lib/python3.7/dist-packages pip      \n",
            "jupyterlab-pygments           0.1.2          /usr/local/lib/python3.7/dist-packages pip      \n",
            "jupyterlab-widgets            1.0.0          /usr/local/lib/python3.7/dist-packages pip      \n",
            "kaggle                        1.5.12         /usr/local/lib/python3.7/dist-packages pip      \n",
            "kapre                         0.1.3.1        /usr/local/lib/python3.7/dist-packages pip      \n",
            "Keras                         2.4.3          /usr/local/lib/python3.7/dist-packages pip      \n",
            "Keras-Preprocessing           1.1.2          /usr/local/lib/python3.7/dist-packages pip      \n",
            "keras-vis                     0.4.1          /usr/local/lib/python3.7/dist-packages pip      \n",
            "kiwisolver                    1.3.1          /usr/local/lib/python3.7/dist-packages pip      \n",
            "knnimpute                     0.1.0          /usr/local/lib/python3.7/dist-packages pip      \n",
            "korean-lunar-calendar         0.2.1          /usr/local/lib/python3.7/dist-packages pip      \n",
            "librosa                       0.8.0          /usr/local/lib/python3.7/dist-packages pip      \n",
            "lightgbm                      2.2.3          /usr/local/lib/python3.7/dist-packages pip      \n",
            "llvmlite                      0.34.0         /usr/local/lib/python3.7/dist-packages pip      \n",
            "lmdb                          0.99           /usr/local/lib/python3.7/dist-packages pip      \n",
            "LunarCalendar                 0.0.9          /usr/local/lib/python3.7/dist-packages pip      \n",
            "lxml                          4.2.6          /usr/local/lib/python3.7/dist-packages pip      \n",
            "Markdown                      3.3.4          /usr/local/lib/python3.7/dist-packages pip      \n",
            "MarkupSafe                    1.1.1          /usr/local/lib/python3.7/dist-packages pip      \n",
            "matplotlib                    3.2.2          /usr/local/lib/python3.7/dist-packages pip      \n",
            "matplotlib-venn               0.11.6         /usr/local/lib/python3.7/dist-packages pip      \n",
            "missingno                     0.4.2          /usr/local/lib/python3.7/dist-packages pip      \n",
            "mistune                       0.8.4          /usr/local/lib/python3.7/dist-packages pip      \n",
            "mizani                        0.6.0          /usr/local/lib/python3.7/dist-packages pip      \n",
            "mkl                           2019.0         /usr/local/lib/python3.7/dist-packages pip      \n",
            "mlxtend                       0.14.0         /usr/local/lib/python3.7/dist-packages pip      \n",
            "more-itertools                8.7.0          /usr/local/lib/python3.7/dist-packages pip      \n",
            "moviepy                       0.2.3.5        /usr/local/lib/python3.7/dist-packages pip      \n",
            "mpmath                        1.2.1          /usr/local/lib/python3.7/dist-packages pip      \n",
            "msgpack                       1.0.2          /usr/local/lib/python3.7/dist-packages pip      \n",
            "multiprocess                  0.70.11.1      /usr/local/lib/python3.7/dist-packages pip      \n",
            "multitasking                  0.0.9          /usr/local/lib/python3.7/dist-packages pip      \n",
            "murmurhash                    1.0.5          /usr/local/lib/python3.7/dist-packages pip      \n",
            "music21                       5.5.0          /usr/local/lib/python3.7/dist-packages pip      \n",
            "natsort                       5.5.0          /usr/local/lib/python3.7/dist-packages pip      \n",
            "nbclient                      0.5.3          /usr/local/lib/python3.7/dist-packages pip      \n",
            "nbconvert                     5.6.1          /usr/local/lib/python3.7/dist-packages pip      \n",
            "nbformat                      5.1.3          /usr/local/lib/python3.7/dist-packages pip      \n",
            "nest-asyncio                  1.5.1          /usr/local/lib/python3.7/dist-packages pip      \n",
            "networkx                      2.5.1          /usr/local/lib/python3.7/dist-packages pip      \n",
            "nibabel                       3.0.2          /usr/local/lib/python3.7/dist-packages pip      \n",
            "nltk                          3.2.5          /usr/local/lib/python3.7/dist-packages pip      \n",
            "notebook                      5.3.1          /usr/local/lib/python3.7/dist-packages pip      \n",
            "np-utils                      0.5.12.1       /usr/local/lib/python3.7/dist-packages pip      \n",
            "numba                         0.51.2         /usr/local/lib/python3.7/dist-packages pip      \n",
            "numexpr                       2.7.3          /usr/local/lib/python3.7/dist-packages pip      \n",
            "numpy                         1.19.5         /usr/local/lib/python3.7/dist-packages pip      \n",
            "nvidia-ml-py3                 7.352.0        /usr/local/lib/python3.7/dist-packages pip      \n",
            "oauth2client                  4.1.3          /usr/local/lib/python3.7/dist-packages pip      \n",
            "oauthlib                      3.1.0          /usr/local/lib/python3.7/dist-packages pip      \n",
            "okgrade                       0.4.3          /usr/local/lib/python3.7/dist-packages pip      \n",
            "opencv-contrib-python         4.1.2.30       /usr/local/lib/python3.7/dist-packages pip      \n",
            "opencv-python                 4.1.2.30       /usr/local/lib/python3.7/dist-packages pip      \n",
            "openpyxl                      2.5.9          /usr/local/lib/python3.7/dist-packages pip      \n",
            "opt-einsum                    3.3.0          /usr/local/lib/python3.7/dist-packages pip      \n",
            "osqp                          0.6.2.post0    /usr/local/lib/python3.7/dist-packages pip      \n",
            "packaging                     20.9           /usr/local/lib/python3.7/dist-packages pip      \n",
            "palettable                    3.3.0          /usr/local/lib/python3.7/dist-packages pip      \n",
            "pandas                        1.1.5          /usr/local/lib/python3.7/dist-packages pip      \n",
            "pandas-datareader             0.9.0          /usr/local/lib/python3.7/dist-packages pip      \n",
            "pandas-gbq                    0.13.3         /usr/local/lib/python3.7/dist-packages pip      \n",
            "pandas-profiling              1.4.1          /usr/local/lib/python3.7/dist-packages pip      \n",
            "pandocfilters                 1.4.3          /usr/local/lib/python3.7/dist-packages pip      \n",
            "panel                         0.11.1         /usr/local/lib/python3.7/dist-packages pip      \n",
            "param                         1.10.1         /usr/local/lib/python3.7/dist-packages pip      \n",
            "parso                         0.8.2          /usr/local/lib/python3.7/dist-packages pip      \n",
            "pathlib                       1.0.1          /usr/local/lib/python3.7/dist-packages pip      \n",
            "patsy                         0.5.1          /usr/local/lib/python3.7/dist-packages pip      \n",
            "pexpect                       4.8.0          /usr/local/lib/python3.7/dist-packages pip      \n",
            "pickleshare                   0.7.5          /usr/local/lib/python3.7/dist-packages pip      \n",
            "Pillow                        7.1.2          /usr/local/lib/python3.7/dist-packages pip      \n",
            "pip                           19.3.1         /usr/local/lib/python3.7/dist-packages pip      \n",
            "pip-tools                     4.5.1          /usr/local/lib/python3.7/dist-packages pip      \n",
            "plac                          1.1.3          /usr/local/lib/python3.7/dist-packages pip      \n",
            "plotly                        4.4.1          /usr/local/lib/python3.7/dist-packages pip      \n",
            "plotnine                      0.6.0          /usr/local/lib/python3.7/dist-packages pip      \n",
            "pluggy                        0.7.1          /usr/local/lib/python3.7/dist-packages pip      \n",
            "pooch                         1.3.0          /usr/local/lib/python3.7/dist-packages pip      \n",
            "portpicker                    1.3.1          /usr/local/lib/python3.7/dist-packages pip      \n",
            "prefetch-generator            1.0.1          /usr/local/lib/python3.7/dist-packages pip      \n",
            "preshed                       3.0.5          /usr/local/lib/python3.7/dist-packages pip      \n",
            "prettytable                   2.1.0          /usr/local/lib/python3.7/dist-packages pip      \n",
            "progressbar2                  3.38.0         /usr/local/lib/python3.7/dist-packages pip      \n",
            "prometheus-client             0.10.1         /usr/local/lib/python3.7/dist-packages pip      \n",
            "promise                       2.3            /usr/local/lib/python3.7/dist-packages pip      \n",
            "prompt-toolkit                1.0.18         /usr/local/lib/python3.7/dist-packages pip      \n",
            "protobuf                      3.12.4         /usr/local/lib/python3.7/dist-packages pip      \n",
            "psutil                        5.4.8          /usr/local/lib/python3.7/dist-packages pip      \n",
            "psycopg2                      2.7.6.1        /usr/local/lib/python3.7/dist-packages pip      \n",
            "ptyprocess                    0.7.0          /usr/local/lib/python3.7/dist-packages pip      \n",
            "py                            1.10.0         /usr/local/lib/python3.7/dist-packages pip      \n",
            "pyarrow                       3.0.0          /usr/local/lib/python3.7/dist-packages pip      \n",
            "pyasn1                        0.4.8          /usr/local/lib/python3.7/dist-packages pip      \n",
            "pyasn1-modules                0.2.8          /usr/local/lib/python3.7/dist-packages pip      \n",
            "pycocotools                   2.0.2          /usr/local/lib/python3.7/dist-packages pip      \n",
            "pycparser                     2.20           /usr/local/lib/python3.7/dist-packages pip      \n",
            "pyct                          0.4.8          /usr/local/lib/python3.7/dist-packages pip      \n",
            "pydata-google-auth            1.1.0          /usr/local/lib/python3.7/dist-packages pip      \n",
            "pydot                         1.3.0          /usr/local/lib/python3.7/dist-packages pip      \n",
            "pydot-ng                      2.0.0          /usr/local/lib/python3.7/dist-packages pip      \n",
            "pydotplus                     2.0.2          /usr/local/lib/python3.7/dist-packages pip      \n",
            "PyDrive                       1.3.1          /usr/local/lib/python3.7/dist-packages pip      \n",
            "pyemd                         0.5.1          /usr/local/lib/python3.7/dist-packages pip      \n",
            "pyerfa                        1.7.2          /usr/local/lib/python3.7/dist-packages pip      \n",
            "pyglet                        1.5.0          /usr/local/lib/python3.7/dist-packages pip      \n",
            "Pygments                      2.6.1          /usr/local/lib/python3.7/dist-packages pip      \n",
            "pygobject                     3.26.1         /usr/lib/python3/dist-packages                  \n",
            "pymc3                         3.7            /usr/local/lib/python3.7/dist-packages pip      \n",
            "PyMeeus                       0.5.11         /usr/local/lib/python3.7/dist-packages pip      \n",
            "pymongo                       3.11.3         /usr/local/lib/python3.7/dist-packages pip      \n",
            "pymystem3                     0.2.0          /usr/local/lib/python3.7/dist-packages pip      \n",
            "PyOpenGL                      3.1.5          /usr/local/lib/python3.7/dist-packages pip      \n",
            "pyparsing                     2.4.7          /usr/local/lib/python3.7/dist-packages pip      \n",
            "pyrsistent                    0.17.3         /usr/local/lib/python3.7/dist-packages pip      \n",
            "pysndfile                     1.3.8          /usr/local/lib/python3.7/dist-packages pip      \n",
            "PySocks                       1.7.1          /usr/local/lib/python3.7/dist-packages pip      \n",
            "pystan                        2.19.1.1       /usr/local/lib/python3.7/dist-packages pip      \n",
            "pytest                        3.6.4          /usr/local/lib/python3.7/dist-packages pip      \n",
            "python-apt                    0.0.0          /usr/local/lib/python3.7/dist-packages          \n",
            "python-chess                  0.23.11        /usr/local/lib/python3.7/dist-packages pip      \n",
            "python-dateutil               2.8.1          /usr/local/lib/python3.7/dist-packages pip      \n",
            "python-louvain                0.15           /usr/local/lib/python3.7/dist-packages pip      \n",
            "python-slugify                4.0.1          /usr/local/lib/python3.7/dist-packages pip      \n",
            "python-utils                  2.5.6          /usr/local/lib/python3.7/dist-packages pip      \n",
            "pytz                          2018.9         /usr/local/lib/python3.7/dist-packages pip      \n",
            "pyviz-comms                   2.0.1          /usr/local/lib/python3.7/dist-packages pip      \n",
            "PyWavelets                    1.1.1          /usr/local/lib/python3.7/dist-packages pip      \n",
            "PyYAML                        3.13           /usr/local/lib/python3.7/dist-packages pip      \n",
            "pyzmq                         22.0.3         /usr/local/lib/python3.7/dist-packages pip      \n",
            "qdldl                         0.1.5.post0    /usr/local/lib/python3.7/dist-packages pip      \n",
            "qtconsole                     5.0.3          /usr/local/lib/python3.7/dist-packages pip      \n",
            "QtPy                          1.9.0          /usr/local/lib/python3.7/dist-packages pip      \n",
            "regex                         2019.12.20     /usr/local/lib/python3.7/dist-packages pip      \n",
            "requests                      2.23.0         /usr/local/lib/python3.7/dist-packages pip      \n",
            "requests-oauthlib             1.3.0          /usr/local/lib/python3.7/dist-packages pip      \n",
            "resampy                       0.2.2          /usr/local/lib/python3.7/dist-packages pip      \n",
            "retrying                      1.3.3          /usr/local/lib/python3.7/dist-packages pip      \n",
            "rpy2                          3.4.3          /usr/local/lib/python3.7/dist-packages pip      \n",
            "rsa                           4.7.2          /usr/local/lib/python3.7/dist-packages pip      \n",
            "scikit-image                  0.16.2         /usr/local/lib/python3.7/dist-packages pip      \n",
            "scikit-learn                  0.22.2.post1   /usr/local/lib/python3.7/dist-packages pip      \n",
            "scipy                         1.4.1          /usr/local/lib/python3.7/dist-packages pip      \n",
            "screen-resolution-extra       0.0.0          /usr/lib/python3/dist-packages                  \n",
            "scs                           2.1.2          /usr/local/lib/python3.7/dist-packages pip      \n",
            "seaborn                       0.11.1         /usr/local/lib/python3.7/dist-packages pip      \n",
            "Send2Trash                    1.5.0          /usr/local/lib/python3.7/dist-packages pip      \n",
            "setuptools                    54.2.0         /usr/local/lib/python3.7/dist-packages pip      \n",
            "setuptools-git                1.2            /usr/local/lib/python3.7/dist-packages pip      \n",
            "Shapely                       1.7.1          /usr/local/lib/python3.7/dist-packages pip      \n",
            "simplegeneric                 0.8.1          /usr/local/lib/python3.7/dist-packages pip      \n",
            "six                           1.15.0         /usr/local/lib/python3.7/dist-packages pip      \n",
            "sklearn                       0.0            /usr/local/lib/python3.7/dist-packages pip      \n",
            "sklearn-pandas                1.8.0          /usr/local/lib/python3.7/dist-packages pip      \n",
            "smart-open                    5.0.0          /usr/local/lib/python3.7/dist-packages pip      \n",
            "snowballstemmer               2.1.0          /usr/local/lib/python3.7/dist-packages pip      \n",
            "sortedcontainers              2.3.0          /usr/local/lib/python3.7/dist-packages pip      \n",
            "SoundFile                     0.10.3.post1   /usr/local/lib/python3.7/dist-packages pip      \n",
            "spacy                         2.2.4          /usr/local/lib/python3.7/dist-packages pip      \n",
            "Sphinx                        1.8.5          /usr/local/lib/python3.7/dist-packages pip      \n",
            "sphinxcontrib-serializinghtml 1.1.4          /usr/local/lib/python3.7/dist-packages pip      \n",
            "sphinxcontrib-websupport      1.2.4          /usr/local/lib/python3.7/dist-packages pip      \n",
            "SQLAlchemy                    1.4.6          /usr/local/lib/python3.7/dist-packages pip      \n",
            "sqlparse                      0.4.1          /usr/local/lib/python3.7/dist-packages pip      \n",
            "srsly                         1.0.5          /usr/local/lib/python3.7/dist-packages pip      \n",
            "statsmodels                   0.10.2         /usr/local/lib/python3.7/dist-packages pip      \n",
            "sympy                         1.7.1          /usr/local/lib/python3.7/dist-packages pip      \n",
            "tables                        3.4.4          /usr/local/lib/python3.7/dist-packages pip      \n",
            "tabulate                      0.8.9          /usr/local/lib/python3.7/dist-packages pip      \n",
            "tblib                         1.7.0          /usr/local/lib/python3.7/dist-packages pip      \n",
            "tensorboard                   2.4.1          /usr/local/lib/python3.7/dist-packages pip      \n",
            "tensorboard-plugin-wit        1.8.0          /usr/local/lib/python3.7/dist-packages pip      \n",
            "tensorflow                    2.4.1          /usr/local/lib/python3.7/dist-packages pip      \n",
            "tensorflow-datasets           4.0.1          /usr/local/lib/python3.7/dist-packages pip      \n",
            "tensorflow-estimator          2.4.0          /usr/local/lib/python3.7/dist-packages pip      \n",
            "tensorflow-gcs-config         2.4.0          /usr/local/lib/python3.7/dist-packages pip      \n",
            "tensorflow-hub                0.11.0         /usr/local/lib/python3.7/dist-packages pip      \n",
            "tensorflow-metadata           0.29.0         /usr/local/lib/python3.7/dist-packages pip      \n",
            "tensorflow-probability        0.12.1         /usr/local/lib/python3.7/dist-packages pip      \n",
            "termcolor                     1.1.0          /usr/local/lib/python3.7/dist-packages pip      \n",
            "terminado                     0.9.4          /usr/local/lib/python3.7/dist-packages pip      \n",
            "testpath                      0.4.4          /usr/local/lib/python3.7/dist-packages pip      \n",
            "text-unidecode                1.3            /usr/local/lib/python3.7/dist-packages pip      \n",
            "textblob                      0.15.3         /usr/local/lib/python3.7/dist-packages pip      \n",
            "textgenrnn                    1.4.1          /usr/local/lib/python3.7/dist-packages pip      \n",
            "Theano                        1.0.5          /usr/local/lib/python3.7/dist-packages pip      \n",
            "thinc                         7.4.0          /usr/local/lib/python3.7/dist-packages pip      \n",
            "tifffile                      2021.4.8       /usr/local/lib/python3.7/dist-packages pip      \n",
            "toml                          0.10.2         /usr/local/lib/python3.7/dist-packages pip      \n",
            "toolz                         0.11.1         /usr/local/lib/python3.7/dist-packages pip      \n",
            "torch                         1.8.1+cu101    /usr/local/lib/python3.7/dist-packages pip      \n",
            "torchsummary                  1.5.1          /usr/local/lib/python3.7/dist-packages pip      \n",
            "torchtext                     0.9.1          /usr/local/lib/python3.7/dist-packages pip      \n",
            "torchvision                   0.9.1+cu101    /usr/local/lib/python3.7/dist-packages pip      \n",
            "tornado                       5.1.1          /usr/local/lib/python3.7/dist-packages pip      \n",
            "tqdm                          4.41.1         /usr/local/lib/python3.7/dist-packages pip      \n",
            "traitlets                     5.0.5          /usr/local/lib/python3.7/dist-packages pip      \n",
            "tweepy                        3.10.0         /usr/local/lib/python3.7/dist-packages pip      \n",
            "typeguard                     2.7.1          /usr/local/lib/python3.7/dist-packages pip      \n",
            "typing-extensions             3.7.4.3        /usr/local/lib/python3.7/dist-packages pip      \n",
            "tzlocal                       1.5.1          /usr/local/lib/python3.7/dist-packages pip      \n",
            "uritemplate                   3.0.1          /usr/local/lib/python3.7/dist-packages pip      \n",
            "urllib3                       1.24.3         /usr/local/lib/python3.7/dist-packages pip      \n",
            "vega-datasets                 0.9.0          /usr/local/lib/python3.7/dist-packages pip      \n",
            "wasabi                        0.8.2          /usr/local/lib/python3.7/dist-packages pip      \n",
            "wcwidth                       0.2.5          /usr/local/lib/python3.7/dist-packages pip      \n",
            "webencodings                  0.5.1          /usr/local/lib/python3.7/dist-packages pip      \n",
            "Werkzeug                      1.0.1          /usr/local/lib/python3.7/dist-packages pip      \n",
            "wheel                         0.36.2         /usr/local/lib/python3.7/dist-packages pip      \n",
            "widgetsnbextension            3.5.1          /usr/local/lib/python3.7/dist-packages pip      \n",
            "wordcloud                     1.5.0          /usr/local/lib/python3.7/dist-packages pip      \n",
            "wrapt                         1.12.1         /usr/local/lib/python3.7/dist-packages pip      \n",
            "xarray                        0.15.1         /usr/local/lib/python3.7/dist-packages pip      \n",
            "xgboost                       0.90           /usr/local/lib/python3.7/dist-packages pip      \n",
            "xkit                          0.0.0          /usr/lib/python3/dist-packages                  \n",
            "xlrd                          1.1.0          /usr/local/lib/python3.7/dist-packages pip      \n",
            "xlwt                          1.3.0          /usr/local/lib/python3.7/dist-packages pip      \n",
            "yellowbrick                   0.9.1          /usr/local/lib/python3.7/dist-packages pip      \n",
            "zict                          2.0.0          /usr/local/lib/python3.7/dist-packages pip      \n",
            "zipp                          3.4.1          /usr/local/lib/python3.7/dist-packages pip      \n"
          ],
          "name": "stdout"
        }
      ]
    },
    {
      "cell_type": "code",
      "metadata": {
        "id": "bBNYfRoRBTui"
      },
      "source": [
        ""
      ],
      "execution_count": null,
      "outputs": []
    }
  ]
}